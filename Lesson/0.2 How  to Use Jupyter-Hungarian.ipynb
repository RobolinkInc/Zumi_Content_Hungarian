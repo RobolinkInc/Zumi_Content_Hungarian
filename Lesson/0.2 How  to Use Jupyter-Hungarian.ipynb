{
  "nbformat": 4,
  "nbformat_minor": 0,
  "metadata": {
    "kernelspec": {
      "display_name": "Python 3",
      "language": "python",
      "name": "python3"
    },
    "language_info": {
      "codemirror_mode": {
        "name": "ipython",
        "version": 3
      },
      "file_extension": ".py",
      "mimetype": "text/x-python",
      "name": "python",
      "nbconvert_exporter": "python",
      "pygments_lexer": "ipython3",
      "version": "3.5.3"
    },
    "colab": {
      "name": "0.2 How to Use Jupyter.ipynb",
      "provenance": []
    }
  },
  "cells": [
    {
      "cell_type": "markdown",
      "metadata": {
        "id": "hwzAt4jELkYc"
      },
      "source": [
        "<img src=\"../Data/images/ZumiHeader.png\" width=700>"
      ]
    },
    {
      "cell_type": "markdown",
      "metadata": {
        "id": "fKTmijMCLkYe"
      },
      "source": [
        "# Mi az a Jupyter Notebook?\n",
        "\n",
        "<font size =3>A Jupyter Notebook egy olyan hely, ahol kódot írhatsz és futtathatsz. A kód írására leíró szöveget is beilleszthetsz (például, amit most olvasol). Sok kutató arra használja, hogy beágyazott kódpéldákkal készítse el jelentéseit, amelyeket futtathat és kipróbálhat. A következő órákban a Python programozási nyelvet fogod használni. A Jupyter Notebook azonban több, mint 40 programozási nyelvet támogat!</font>\n",
        "\n",
        "<img src=\"../Data/images/Jupyter.png\" width=400>\n",
        "\n",
        "## Jupyter Notebook Megnyitása\n",
        "<font size =3>A Jupyter első megnyitásakor a fentihez hasonló képernyő jelenik meg. Megjeleníti az összes jelenlegi jegyzetfüzeted listáját. A kép a kezdőképernyő különböző részeit mutatja. A jegyzetfüzet megnyitásához kattints a megnyitni kívánt jegyzetfüzet nevére. A jegyzetfüzet ikonjának színe jelzi, hogy melyik jegyzetek vannak már nyitva.</font>\n",
        "\n",
        "<img src=\"../Data/images/JupyterHome.png\"> \n",
        "\n",
        "## Hogy néz ki a Jupyter notebook?\n",
        "\n",
        "<font size =3>A Jupyter Notebookba írod a Zümi kódját. Amikor megnyitsz egy leckét, már látnod kell a szöveggel és kóddal ellátott cellákat. A lecke elvégzéséhez futtatnod kell a kódot, a megállás kódját és el kell mentened a változtatásokat! Az alábbiakban kiemeljük a legfontosabb eszközöket, amelyeket használni fogsz:</font>\n",
        "\n",
        "<img src=\"../Data/images/jupyter_toolbar.png\">\n",
        "\n",
        "<hr>\n",
        "\n",
        "## Cellák\n",
        "\n",
        "<font size =3>Egy tipikus Jupyter Notebook cellákra van felosztva. Néhány cellában van szöveg, például olyan, amelyet éppen olvasol, illetve egyes cellák futtathatnak kódot.</font>\n",
        "\n",
        "### Kód futtatása\n",
        "<font size =3>Az alábbi cella egy példa egy kód cellára. A cella futtatásához és a kód futtatásához válaszd ki, hogy kiemelve legyen <span style=\"color:dodgerblue\">kékkel </span> vagy <span style=\"color:#52BE80\">zölddel</span>. A jövőben kék színű cellavázlat van kiválasztva, de nem a szerkesztési módban. A zöld körvonalú cella kiválasztva van és szerkesztési módban van. Bármelyik állapotban kattints a \"Futtatás\" gombra az eszköztárban, vagy nyomd meg a <font face=\"Courier\">Shift</font> + <font face=\"Courier\">Enter</font> kombinációt. </font>"
      ]
    },
    {
      "cell_type": "code",
      "metadata": {
        "id": "Xn4jtjJ8LkYg"
      },
      "source": [
        "print(\"Ez egy kódcella!\")"
      ],
      "execution_count": null,
      "outputs": []
    },
    {
      "cell_type": "markdown",
      "metadata": {
        "id": "GRAKSy35LkYh"
      },
      "source": [
        "<font size =3> Egy cella futtatása után a kód végleges formája megjelenik alatta. A cella melletti szám szintén megváltozik <font face=\"Courier\">In[]</font>-ről  <font face=\"Courier\">In[1]</font>-re. A szám azt a sorrendet jelzi, amelyben a cellák végrehajtották és befejezték a folyamataikat. A Jupyter Notebookban egyszerre futtathatod a kód összes celláját vagy szakaszát! Próbálkozz újra a fenti kód futtatásával, és ez megváltozik <font face=\"Courier\">In[1]</font>-ről <font face=\"Courier\">In[2]</font>-re.\n",
        "\n",
        "Ha az <font face=\"Courier\">In[]</font> jelző nem jelenik meg egy cella mellett, az a cella **nem képes** futtatni a kódot. Például próbáld meg \"futtatni\" az alábbi cellát.</font>\n"
      ]
    },
    {
      "cell_type": "markdown",
      "metadata": {
        "id": "Ae3ypLLTLkYi"
      },
      "source": [
        "print(\"Ez nem egy kódcella\")"
      ]
    },
    {
      "cell_type": "markdown",
      "metadata": {
        "id": "jCLIolq_LkYi"
      },
      "source": [
        "<font size =3> Ezt a cellát helyette szöveggé formázta. Ezeket a cellákat **markdown** celláknak nevezzük. Néha véletlenül is átválthatsz egy másik cellát. Ha ez megtörténik, lépj az eszköztár \"Cella\", majd a \"Cella típusa\" pontjára a kettő közötti váltáshoz. Próbáld meg megváltoztatni a fenti cellát markdown celláról kódra.</font>\n",
        "\n",
        "\n",
        "### A kód megállítása\n",
        "<font size =3> Néha le kell állítanod a jelenleg futó kódot. Például, ha van egy örökké tartó ciklusod, és megpróbálnád leállítani. Az eszköztár \"Futtatás\" gombja mellett egy fekete négyzet található. Ez a leállítás gomb, és megállítja a futó cellát. Futtasd az alábbi cellát (amely örökké futna), majd állítsd le a kódot.</font>"
      ]
    },
    {
      "cell_type": "code",
      "metadata": {
        "id": "MJ6RYDwjLkYi"
      },
      "source": [
        "count=0\n",
        "while True:\n",
        "    print(count)\n",
        "    count+=1\n",
        "    "
      ],
      "execution_count": null,
      "outputs": []
    },
    {
      "cell_type": "markdown",
      "metadata": {
        "deletable": false,
        "editable": false,
        "id": "oziPpsqMLkYj"
      },
      "source": [
        "<font size =3> Észrevetted, hogy amíg a cella fut, van egy **csillag** a cella mellett? Ez így néz ki: <font face=\"Courier\">In[*]</font>. Az összes csillaggal ellátott cella továbbra is fut. Kerüld el a további cellák futtatását, ha még mindig fut. </font>\n",
        "\n",
        "### Cellák hozzáadása\n",
        "<font size =3> Ha új cellát szeretnél létrehozni, lépj az eszköztárra, és kattints a \"Beszúrás\" gombra. A menüben lehetőséged van egy cellát beilleszteni az aktuális cella fölé vagy alá.</font>\n",
        "\n",
        "<img src=\"../Data/images/adding_cells.png\">\n",
        "\n",
        "### Cells törlése\n",
        "\n",
        "<font size =3> Az eszköztárban a \"Szerkesztés\" alatt számos eszközt találsz, beleértve a \"Cellák törlése\" funkciót is. Ez törli az összes kijelölt cellát.</font>\n",
        "\n",
        "<img src=\"../Data/images/deleting_cells.png\">\n",
        "\n",
        "### Zárolt cellák\n",
        "<font size =3> Néhány cella, amelyet az oktatóanyagokon látsz (beleértve ezt is), zárolva van. Ez azt jelenti, hogy nem törölheted vagy szerkesztheted őket. Próbáld meg szerkeszteni az alábbi cellákat. Néhányat nem fogsz tudni szerkeszteni.</font>\n"
      ]
    },
    {
      "cell_type": "markdown",
      "metadata": {
        "id": "Rpctb02gLkYj"
      },
      "source": [
        "# Szerkeszthető és törölhető vagyok"
      ]
    },
    {
      "cell_type": "markdown",
      "metadata": {
        "deletable": false,
        "id": "Zx3xLBUPLkYq"
      },
      "source": [
        "# Szerkeszthető vagyok, de nem tudsz törölni"
      ]
    },
    {
      "cell_type": "markdown",
      "metadata": {
        "deletable": false,
        "editable": false,
        "id": "sNL82FTJLkYr"
      },
      "source": [
        "# Nem tudsz szerkeszteni és törölni"
      ]
    },
    {
      "cell_type": "markdown",
      "metadata": {
        "id": "lRUVb4aOLkYr"
      },
      "source": [
        "<hr>\n",
        "\n",
        "## Notebook funkciói\n",
        "\n",
        "### Notebook újraindítása\n",
        "<font size =3> Előfordulhat, hogy törölni szeretnéd a cellák összes kimenetét, és újra kell indítanod az összes kódot. Az eszköztáron van egy \"Kernel\" nevű fül, és annak menüjében látni fogod az \"Újraindítás és kimenet törlése\" opciót. Miután kiválasztottad, az összes kimenet törlődik, és ezek a cellák készen állnak a futtatásra. Ellenőrizheted még egyszer, ha üres\n",
        " <font face=\"Courier\">In[]</font> zárójeleket keresel. </font>\n",
        "\n",
        "<img src=\"../Data/images/restart_notebook.png\">\n",
        "\n",
        "### Jupyter Notebook kikapcsolása\n",
        "<font size =3>Még akkor is, ha bezárod a lapot, a Notebook nyitva marad a leállításig. Javasoljuk, hogy egyszerre csak egy notebookot hagyj nyitva. A Notebook leállításához válaszd ki, és kattints a narancssárga \"Leállítás\" gombra. Vigyázz, nehogy töröld véletlenül!</font>\n",
        "\n",
        "<img src=\"../Data/images/shutdown_notebook.png\">\n",
        "\n",
        "<font size =3> Ezeket az alapvető tudnivalókat ismerned kell a Jupyter Notebook leckéid futtatásához. A tanulás megkezdéséhez ugorj az 1.1-es leckére!</font>"
      ]
    }
  ]
}