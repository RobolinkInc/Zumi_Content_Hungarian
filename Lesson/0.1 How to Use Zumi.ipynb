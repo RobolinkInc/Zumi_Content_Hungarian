{
  "nbformat": 4,
  "nbformat_minor": 0,
  "metadata": {
    "kernelspec": {
      "display_name": "Python 3",
      "language": "python",
      "name": "python3"
    },
    "language_info": {
      "codemirror_mode": {
        "name": "ipython",
        "version": 3
      },
      "file_extension": ".py",
      "mimetype": "text/x-python",
      "name": "python",
      "nbconvert_exporter": "python",
      "pygments_lexer": "ipython3",
      "version": "3.5.3"
    },
    "colab": {
      "name": "0.1 How to Use Zumi (1).ipynb",
      "provenance": []
    }
  },
  "cells": [
    {
      "cell_type": "markdown",
      "metadata": {
        "id": "diXgF2lavEgb"
      },
      "source": [
        "<img src=\"../Data/images/ZumiHeader.png\" width=700>"
      ]
    },
    {
      "cell_type": "markdown",
      "metadata": {
        "id": "jTN_jznjvEgl"
      },
      "source": [
        "\n",
        "# Ki az a Zümi?\n",
        "<font size =3>Zümi az első oktatási, önvezető autó, amely szórakoztató és játékos módon tanítja meg a mesterséges intelligencia és az önvezető autó fogalmát. Az AI mellett megtanítja az alapvető robotikai ismereteket és programozási koncepciókat.</font>\n",
        "\n",
        "# Mi az AI?\n",
        " <font size =3>Az AI a mesterséges intelligencia angol rövidítése. Lehet, hogy elsőre ijesztően hangzik, de ha jobban belegondolunk, mindennap jelen van az életünkben a mesterséges intelligencia. Amikor a Netflix javaslatokat tesz nekünk, vagy megkérdezzük Sirit, mennyi időbe telik eljutni a kedvenc éttermünkbe, akkor épp használjuk a mesterséges intelligenciát. Az AI szoftvereket úgy tervezték, hogy intelligensnek tűnjenek, úgy viselkedjenek, mint egy ember, és a következőkre legyenek képesek:\n",
        "\n",
        "* A nyelv feldolgozása. Ilyen például minden szoftver, aminek van szövegfelolvasó funkciója van, vagyis amikor a képernyőn megjelenő szöveget hangosan felolvassák. Ez remek látássérülteknek is!\n",
        "* Tárgyak osztályozása. Ilyenkor a képeket a megfelelő tárgyakhoz kapcsolja. Egyes AI gépek még ennél is tovább lépnek, és felismerik a virágfajtákat vagy a kutyafajtákat.\n",
        "* Ok és okozat. Egyes mesterséges intelligenciával rendelkező gépeket olyan játékokra terveztek, mint az Amőba és a Torpedó, és a következő lépéshez feltételeket használnak. Például a logikája a következőképpen nézhet ki: „Ha ellenfelem X-et tesz a jobb sarokba, akkor balra O-t teszek. Ha nem, beteszek egy O-t a jobb sarokba.\"\n",
        "\n",
        "Az AI sokféle formában fordul elő, és nem mindig robot alakban. Most részt fogsz venni egy utazáson, ahol megismerheted, hogyan alkalmazzák az önvezető autók technikáját!</font>\n",
        "\n",
        "# Hogyan használhatom Zümit?\n",
        "<font size =3>Mielőtt belevetnéd magad a kódolás és a robotika világába, először meg kell tanulnod a Zümi alapjait. Az összes témakör tartalmaz tippeket és néhány alapvető hibaelhárítási és biztonsági óvintézkedést. Az alábbi linkek segítségével oddaugorhatsz egy adott szakaszra.\n",
        "\n",
        "<a href='#safety'> Általános Óvintézkedések</a> <br>\n",
        "<a href='#battery'> Akkumulátor Műszaki Adatai és Használata</a> <br>\n",
        "<a href='#charging'> Zümi Töltése</a> <br>\n",
        "<a href='#zumiboard'> Zümi Alapjapjának Tartalma (IR, Motorok, és reset gomb)</a> <br>\n",
        "<a href='#poweroff'> Kikapcsolás</a> <br>\n",
        "\n",
        "<hr>\n",
        "\n",
        "<a id='safety'></a>\n",
        "## Általános Óvintézkedések\n",
        "\n",
        "* <font size =3> Ne nyúlj hozzá Zümihez nedves kézzel és ne tegyél folyadékot az elektronika közelébe, ha épp használod.</font>\n",
        "* <font size =3> Ne helyezz semmilyen fémet vagy áramvezető anyagot a Zümi külsejébe vagy a szabad áramkörök közelébe.</font> \n",
        "* <font size =3>A bekapcsolás előtt ellenőrizd, hogy a Zümi minden csatlakozása megfelelő-e.</font>\n",
        "* <font size =3>Vigyázz arra, hogy ne szorítsd meg a vezetékeket, amikor meghúzod a csavarokat vagy az kiálló részeket.</font>\n",
        "* <font size =3>A Zümi építésekor vagy bármely alkatrész csatlakoztatásakor kapcsold ki Zümit.</font>\n",
        "\n",
        "\n",
        "<a id='battery'></a>\n",
        "## Akkumulátor Műszaki Adatai és Használata\n",
        "<font size =3>A Zümi csak egycellás lítium polimer akkumulátorral (3,7V - 4,2V) működik. Az akkumulátor szabványos JST PH 2.0MM csatlakozóval rendelkezik.</font>\n",
        "#### Az akkumulátor csatlakoztatása\n",
        "<font size =3>Az akkumulátor csatlakoztatásakor ügyelj arra, hogy a piros vezeték a (+) jelen, a fekete vezeték pedig a (-) jelen legyen a PCB-n. **Ne** csatlakoztasd az akkumulátort az alaplap bármely más csatlakozójához, különben az akkumulátor és a Zümi alapapja tönkremennek.</font>\n",
        "\n",
        "#### Akkumulátor eltávolítása\n",
        "<font size =3>HA el kell távolítanod az akkumulátort, fogd meg a csatlakozót az akkumulátor csatlakozóján található fehér műanyagból. Egy fogó jó lesz ehhez. Kerüld az akkumulátor vezetékekből való rángatását.</font>\n",
        "\n",
        "#### Merül az akkumulátor\n",
        "<font size =3>Ha az elem merül, a Zümi sípolni kezd. Ha nem áll rendelkezésre a MicroUSB, akkor kapcsold ki a Zümit. Ennek elmulasztása idővel jelentősen csökkenti a teljesítményt. Ha elérhető a MicroUSB, olvasd el, hogyan kell tölteni a Zümit.</font>\n",
        "\n",
        "<a id='charging'></a>\n",
        "## Zümi Töltése\n",
        "<font size =3>A Zümi 3 LED-je látható az alaplap bal oldalán. Ezek a töltési állapot mutatói.</font>\n",
        "\n",
        "* <font size =3>Ha a PIROS LED világít, akkor az akkumulátor töltődik.</font>\n",
        "* <font size =3>Ha a KÉK LED világít, akkor észlelte a MicroUSB-t.</font>\n",
        "* <font size =3>Ha a ZÖLD LED világít, akkor a Zümi alaplap áramellátást kap.</font>\n",
        "* <font size =3>Ha **csak** a ZÖLD LED világít, akkor a Zümi akkumulátorral működik.</font>\n",
        "\n",
        "#### Hogyan kell tölteni\n",
        "<font size =3>A Zümi csak akkor töltődik, ha a PIROS LED világít, és a MicroUSB áramforráshoz, laptop USB porthoz vagy konnektorhoz van csatlakoztatva. Ha csatlakoztatod a MicroUSB-t, és a PIROS LED **nem** világít, akkor a töltés megkezdéséhez át kell állítanod a kapcsolót.</font>\n",
        "\n",
        "#### Honnan tudom, ha Zümi feltöltött?\n",
        "<font size =3>Ha a kapcsoló töltési helyzetben van (\"kikapcsolt\" helyzetben) és a PIROS LED nem világít, akkor az akkumulátor teljesen feltöltött.</font>\n",
        "\n",
        "#### Használhatom a Zümit töltés közben?\n",
        "<font size =3>Használhatod a Zümit töltés közben, de az induló parancsokat korlátozhatja a MicroUSB kábel. Ha töltés közben használtad a Zümit, és le szeretnéd húzni az USB-kábelt, akkor először a kapcsolót \"bekapcsolt\" állásba kell állítanod. Egy pittyenés hallatszik és a PIROS LED kikapcsol, és a ZÖLD és KÉK LED fog világítani. Ekkor leválaszthatod. Ha a kapcsoló állítása előtt leválasztod Zümit, akor kikapcsol, és újra kell indítanod Zümit.</font>\n",
        "\n",
        "<a id='zumiboard'></a>\n",
        "## Zümi Alapjapjának Tartalma\n",
        "\n",
        "<font size =3>Az alábbiakban felsorolunk néhány általános óvintézkedést a nyomtatott áramköri lapra/hoz csatlakoztatott alkatrészekkel kapcsolatban.</font>\n",
        "\n",
        "#### Infravörös (IR) LED-ek\n",
        "<font size =3>Az IR LED-ek (különösen az alsó és az első LED-ek) hosszú vezetékekkel rendelkeznek, amelyek könnyen törhetők, különösen a Zümi építése során. Mielőtt bekapcsolnád Zümit, ellenőrizd, hogy a tűkhuzalok egyike sem ér hozzá.</font>\n",
        "\n",
        "#### Motorok\n",
        "<font size =3>Annak elkerülése érdekében, hogy a Zümi motorjai összetörjenek, vigyázz a kis sebességváltóra. A motorok valóban nagyfokozatú sebességváltóval rendelkeznek, ami miatt nagyon kicsik, de nagyon törékenyek is legyenek. Ne erőltesd a motorok forgatását, mert ez megszakítja a fogaskerekek fogait, és használhatatlan motort eredményez. Kerüld az erőlködést azzal, hogy tartod és nem engeded fordulni.\n",
        "Ha úgy tűnik, hogy a Züminek problémái vannak a kikapcsolással, ennek az is oka lehet, hogy a motorok túl gyorsan fogyasztják az energiát. Ekkor lehet, hogy csökkentened kell a motor parancsaiba beírt sebességet.</font>\n",
        "\n",
        "#### Arduino reset gomb\n",
        "<font size =3>Ha a Zümi nem hagyja abba egy adott kód futtatását, és úgy tűnik, hogy nem reagál (a motorok továbbra is kontroll nélkül hajtanak), akkor visszaállíthatod az Arduino alaplapot a Zümi bal oldalán található reset gombra kattintva. A reset gombot úgy érheted el, hogy az ablakot belülről kinyitod. Ne feledd, hogy ez csak az Arduino alaplapot állítja vissza, a Raspberry Pi-t nem! Ha a Pi elakadt, a reset gomb azon nem segít.</font>\n",
        "    \n",
        "#### Kamera\n",
        "<font size =3> A kamera nagyon érzékeny, ezért nagyon fontos, hogy a Zümi külseje mindig rajta legyen! Ha kódot futtatsz, és forrás vagy MMAL hibát kapsz, előfordulhat, hogy a kamera nincs csatlakoztatva. Ellenőrizd a kamera elején lévő apró csatlakozót, valamint a Pi csatlakozóját.\n",
        "    \n",
        "\n",
        "<a id='poweroff'></a>\n",
        "## Kikapcsolás\n",
        "<font size =3>A Zümi egy kicsi számítógép, amelyet megfelelően kell kikapcsolni.\n",
        "\n",
        "Ügyelj arra, hogy a műszerfalat használd a Zümi kikapcsolásához, majd várj 10 másodpercet a kapcsoló használata előtt.\n",
        "Ha a kapcsolót használod, használd a ```sudo poweroff``` parancsot, majd várj 10 másodpercet, mielőtt a kapcsolót \"kikapcsolt\" helyzetbe állítod.</font>\n"
      ]
    }
  ]
}